{
 "cells": [
  {
   "cell_type": "code",
   "execution_count": 1,
   "metadata": {},
   "outputs": [
    {
     "name": "stdout",
     "output_type": "stream",
     "text": [
      "/Users/waliyyullah/.zshenv:.:1: no such file or directory: /Users/waliyyullah/.cargo/env\n",
      "Requirement already satisfied: transformers in /Users/waliyyullah/.local/share/virtualenvs/accent-detector-8pUh8nSx/lib/python3.11/site-packages (4.52.3)\n",
      "Requirement already satisfied: torchaudio in /Users/waliyyullah/.local/share/virtualenvs/accent-detector-8pUh8nSx/lib/python3.11/site-packages (2.7.0)\n",
      "Collecting librosa\n",
      "  Downloading librosa-0.11.0-py3-none-any.whl.metadata (8.7 kB)\n",
      "Requirement already satisfied: filelock in /Users/waliyyullah/.local/share/virtualenvs/accent-detector-8pUh8nSx/lib/python3.11/site-packages (from transformers) (3.18.0)\n",
      "Requirement already satisfied: huggingface-hub<1.0,>=0.30.0 in /Users/waliyyullah/.local/share/virtualenvs/accent-detector-8pUh8nSx/lib/python3.11/site-packages (from transformers) (0.31.4)\n",
      "Requirement already satisfied: numpy>=1.17 in /Users/waliyyullah/.local/share/virtualenvs/accent-detector-8pUh8nSx/lib/python3.11/site-packages (from transformers) (2.2.6)\n",
      "Requirement already satisfied: packaging>=20.0 in /Users/waliyyullah/.local/share/virtualenvs/accent-detector-8pUh8nSx/lib/python3.11/site-packages (from transformers) (25.0)\n",
      "Requirement already satisfied: pyyaml>=5.1 in /Users/waliyyullah/.local/share/virtualenvs/accent-detector-8pUh8nSx/lib/python3.11/site-packages (from transformers) (6.0.2)\n",
      "Requirement already satisfied: regex!=2019.12.17 in /Users/waliyyullah/.local/share/virtualenvs/accent-detector-8pUh8nSx/lib/python3.11/site-packages (from transformers) (2024.11.6)\n",
      "Requirement already satisfied: requests in /Users/waliyyullah/.local/share/virtualenvs/accent-detector-8pUh8nSx/lib/python3.11/site-packages (from transformers) (2.32.3)\n",
      "Requirement already satisfied: tokenizers<0.22,>=0.21 in /Users/waliyyullah/.local/share/virtualenvs/accent-detector-8pUh8nSx/lib/python3.11/site-packages (from transformers) (0.21.1)\n",
      "Requirement already satisfied: safetensors>=0.4.3 in /Users/waliyyullah/.local/share/virtualenvs/accent-detector-8pUh8nSx/lib/python3.11/site-packages (from transformers) (0.5.3)\n",
      "Requirement already satisfied: tqdm>=4.27 in /Users/waliyyullah/.local/share/virtualenvs/accent-detector-8pUh8nSx/lib/python3.11/site-packages (from transformers) (4.67.1)\n",
      "Requirement already satisfied: fsspec>=2023.5.0 in /Users/waliyyullah/.local/share/virtualenvs/accent-detector-8pUh8nSx/lib/python3.11/site-packages (from huggingface-hub<1.0,>=0.30.0->transformers) (2025.5.0)\n",
      "Requirement already satisfied: typing-extensions>=3.7.4.3 in /Users/waliyyullah/.local/share/virtualenvs/accent-detector-8pUh8nSx/lib/python3.11/site-packages (from huggingface-hub<1.0,>=0.30.0->transformers) (4.13.2)\n",
      "Requirement already satisfied: torch==2.7.0 in /Users/waliyyullah/.local/share/virtualenvs/accent-detector-8pUh8nSx/lib/python3.11/site-packages (from torchaudio) (2.7.0)\n",
      "Requirement already satisfied: sympy>=1.13.3 in /Users/waliyyullah/.local/share/virtualenvs/accent-detector-8pUh8nSx/lib/python3.11/site-packages (from torch==2.7.0->torchaudio) (1.14.0)\n",
      "Requirement already satisfied: networkx in /Users/waliyyullah/.local/share/virtualenvs/accent-detector-8pUh8nSx/lib/python3.11/site-packages (from torch==2.7.0->torchaudio) (3.4.2)\n",
      "Requirement already satisfied: jinja2 in /Users/waliyyullah/.local/share/virtualenvs/accent-detector-8pUh8nSx/lib/python3.11/site-packages (from torch==2.7.0->torchaudio) (3.1.6)\n",
      "Collecting audioread>=2.1.9 (from librosa)\n",
      "  Downloading audioread-3.0.1-py3-none-any.whl.metadata (8.4 kB)\n",
      "Collecting numba>=0.51.0 (from librosa)\n",
      "  Downloading numba-0.61.2-cp311-cp311-macosx_11_0_arm64.whl.metadata (2.8 kB)\n",
      "Requirement already satisfied: scipy>=1.6.0 in /Users/waliyyullah/.local/share/virtualenvs/accent-detector-8pUh8nSx/lib/python3.11/site-packages (from librosa) (1.15.3)\n",
      "Collecting scikit-learn>=1.1.0 (from librosa)\n",
      "  Using cached scikit_learn-1.6.1-cp311-cp311-macosx_12_0_arm64.whl.metadata (31 kB)\n",
      "Requirement already satisfied: joblib>=1.0 in /Users/waliyyullah/.local/share/virtualenvs/accent-detector-8pUh8nSx/lib/python3.11/site-packages (from librosa) (1.5.0)\n",
      "Requirement already satisfied: decorator>=4.3.0 in /Users/waliyyullah/.local/share/virtualenvs/accent-detector-8pUh8nSx/lib/python3.11/site-packages (from librosa) (5.2.1)\n",
      "Collecting soundfile>=0.12.1 (from librosa)\n",
      "  Downloading soundfile-0.13.1-py2.py3-none-macosx_11_0_arm64.whl.metadata (16 kB)\n",
      "Collecting pooch>=1.1 (from librosa)\n",
      "  Downloading pooch-1.8.2-py3-none-any.whl.metadata (10 kB)\n",
      "Collecting soxr>=0.3.2 (from librosa)\n",
      "  Downloading soxr-0.5.0.post1-cp311-cp311-macosx_11_0_arm64.whl.metadata (5.6 kB)\n",
      "Collecting lazy_loader>=0.1 (from librosa)\n",
      "  Downloading lazy_loader-0.4-py3-none-any.whl.metadata (7.6 kB)\n",
      "Collecting msgpack>=1.0 (from librosa)\n",
      "  Downloading msgpack-1.1.0-cp311-cp311-macosx_11_0_arm64.whl.metadata (8.4 kB)\n",
      "Collecting llvmlite<0.45,>=0.44.0dev0 (from numba>=0.51.0->librosa)\n",
      "  Using cached llvmlite-0.44.0-cp311-cp311-macosx_11_0_arm64.whl.metadata (4.8 kB)\n",
      "Requirement already satisfied: platformdirs>=2.5.0 in /Users/waliyyullah/.local/share/virtualenvs/accent-detector-8pUh8nSx/lib/python3.11/site-packages (from pooch>=1.1->librosa) (4.3.8)\n",
      "Requirement already satisfied: charset-normalizer<4,>=2 in /Users/waliyyullah/.local/share/virtualenvs/accent-detector-8pUh8nSx/lib/python3.11/site-packages (from requests->transformers) (3.4.2)\n",
      "Requirement already satisfied: idna<4,>=2.5 in /Users/waliyyullah/.local/share/virtualenvs/accent-detector-8pUh8nSx/lib/python3.11/site-packages (from requests->transformers) (3.10)\n",
      "Requirement already satisfied: urllib3<3,>=1.21.1 in /Users/waliyyullah/.local/share/virtualenvs/accent-detector-8pUh8nSx/lib/python3.11/site-packages (from requests->transformers) (2.4.0)\n",
      "Requirement already satisfied: certifi>=2017.4.17 in /Users/waliyyullah/.local/share/virtualenvs/accent-detector-8pUh8nSx/lib/python3.11/site-packages (from requests->transformers) (2025.4.26)\n",
      "Collecting threadpoolctl>=3.1.0 (from scikit-learn>=1.1.0->librosa)\n",
      "  Using cached threadpoolctl-3.6.0-py3-none-any.whl.metadata (13 kB)\n",
      "Collecting cffi>=1.0 (from soundfile>=0.12.1->librosa)\n",
      "  Downloading cffi-1.17.1-cp311-cp311-macosx_11_0_arm64.whl.metadata (1.5 kB)\n",
      "Collecting pycparser (from cffi>=1.0->soundfile>=0.12.1->librosa)\n",
      "  Using cached pycparser-2.22-py3-none-any.whl.metadata (943 bytes)\n",
      "Requirement already satisfied: mpmath<1.4,>=1.1.0 in /Users/waliyyullah/.local/share/virtualenvs/accent-detector-8pUh8nSx/lib/python3.11/site-packages (from sympy>=1.13.3->torch==2.7.0->torchaudio) (1.3.0)\n",
      "Requirement already satisfied: MarkupSafe>=2.0 in /Users/waliyyullah/.local/share/virtualenvs/accent-detector-8pUh8nSx/lib/python3.11/site-packages (from jinja2->torch==2.7.0->torchaudio) (3.0.2)\n",
      "Downloading librosa-0.11.0-py3-none-any.whl (260 kB)\n",
      "Downloading audioread-3.0.1-py3-none-any.whl (23 kB)\n",
      "Downloading lazy_loader-0.4-py3-none-any.whl (12 kB)\n",
      "Downloading msgpack-1.1.0-cp311-cp311-macosx_11_0_arm64.whl (81 kB)\n",
      "Downloading numba-0.61.2-cp311-cp311-macosx_11_0_arm64.whl (2.8 MB)\n",
      "\u001b[2K   \u001b[90m━━━━━━━━━━━━━━━━━━━━━━━━━━━━━━━━━━━━━━━━\u001b[0m \u001b[32m2.8/2.8 MB\u001b[0m \u001b[31m8.3 MB/s\u001b[0m eta \u001b[36m0:00:00\u001b[0ma \u001b[36m0:00:01\u001b[0m\n",
      "\u001b[?25hUsing cached llvmlite-0.44.0-cp311-cp311-macosx_11_0_arm64.whl (26.2 MB)\n",
      "Downloading pooch-1.8.2-py3-none-any.whl (64 kB)\n",
      "Using cached scikit_learn-1.6.1-cp311-cp311-macosx_12_0_arm64.whl (11.1 MB)\n",
      "Downloading soundfile-0.13.1-py2.py3-none-macosx_11_0_arm64.whl (1.1 MB)\n",
      "\u001b[2K   \u001b[90m━━━━━━━━━━━━━━━━━━━━━━━━━━━━━━━━━━━━━━━━\u001b[0m \u001b[32m1.1/1.1 MB\u001b[0m \u001b[31m9.4 MB/s\u001b[0m eta \u001b[36m0:00:00\u001b[0m\n",
      "\u001b[?25hDownloading cffi-1.17.1-cp311-cp311-macosx_11_0_arm64.whl (178 kB)\n",
      "Downloading soxr-0.5.0.post1-cp311-cp311-macosx_11_0_arm64.whl (159 kB)\n",
      "Using cached threadpoolctl-3.6.0-py3-none-any.whl (18 kB)\n",
      "Using cached pycparser-2.22-py3-none-any.whl (117 kB)\n",
      "Installing collected packages: threadpoolctl, soxr, pycparser, msgpack, llvmlite, lazy_loader, audioread, scikit-learn, pooch, numba, cffi, soundfile, librosa\n",
      "\u001b[2K   \u001b[90m━━━━━━━━━━━━━━━━━━━━━━━━━━━━━━━━━━━━━━━━\u001b[0m \u001b[32m13/13\u001b[0m [librosa]2/13\u001b[0m [librosa]earn]\n",
      "\u001b[1A\u001b[2KSuccessfully installed audioread-3.0.1 cffi-1.17.1 lazy_loader-0.4 librosa-0.11.0 llvmlite-0.44.0 msgpack-1.1.0 numba-0.61.2 pooch-1.8.2 pycparser-2.22 scikit-learn-1.6.1 soundfile-0.13.1 soxr-0.5.0.post1 threadpoolctl-3.6.0\n",
      "Note: you may need to restart the kernel to use updated packages.\n"
     ]
    }
   ],
   "source": [
    "pip install transformers torchaudio librosa\n"
   ]
  },
  {
   "cell_type": "code",
   "execution_count": 4,
   "metadata": {},
   "outputs": [
    {
     "name": "stderr",
     "output_type": "stream",
     "text": [
      "Device set to use mps:0\n"
     ]
    }
   ],
   "source": [
    "# Use a pipeline as a high-level helper\n",
    "from transformers import pipeline\n",
    "\n",
    "pipe = pipeline(\"audio-classification\", model=\"HamzaSidhu786/speech-accent-detection\")"
   ]
  },
  {
   "cell_type": "code",
   "execution_count": 9,
   "metadata": {},
   "outputs": [
    {
     "name": "stderr",
     "output_type": "stream",
     "text": [
      "Device set to use mps:0\n",
      "Python(58068) MallocStackLogging: can't turn off malloc stack logging because it was not enabled.\n"
     ]
    },
    {
     "name": "stdout",
     "output_type": "stream",
     "text": [
      "{'accent': 'American', 'score': 1.0, 'summary': 'The model detected a American accent with confidence 100.0%'}\n"
     ]
    }
   ],
   "source": [
    "from transformers import pipeline\n",
    "\n",
    "# Initialize the audio classification pipeline with the accent detection model\n",
    "pipe = pipeline(\"audio-classification\", model=\"HamzaSidhu786/speech-accent-detection\")\n",
    "\n",
    "# Function to classify accent from an audio file path\n",
    "def classify_accent(audio_path):\n",
    "    results = pipe(audio_path)\n",
    "    # results is a list of dicts; take the top prediction\n",
    "    top_result = results[0]\n",
    "    return {\n",
    "        \"accent\": top_result[\"label\"],\n",
    "        \"score\": round(top_result[\"score\"], 3),\n",
    "        \"summary\": f\"The model detected a {top_result['label']} accent with confidence {round(top_result['score']*100, 1)}%\"\n",
    "    }\n",
    "\n",
    "# Example usage\n",
    "audio_file = \"p225_001.wav\"\n",
    "output = classify_accent(audio_file)\n",
    "print(output)\n"
   ]
  },
  {
   "cell_type": "code",
   "execution_count": null,
   "metadata": {},
   "outputs": [],
   "source": [
    "\n"
   ]
  },
  {
   "cell_type": "code",
   "execution_count": null,
   "metadata": {},
   "outputs": [],
   "source": []
  }
 ],
 "metadata": {
  "kernelspec": {
   "display_name": "accent-detector-8pUh8nSx",
   "language": "python",
   "name": "python3"
  },
  "language_info": {
   "codemirror_mode": {
    "name": "ipython",
    "version": 3
   },
   "file_extension": ".py",
   "mimetype": "text/x-python",
   "name": "python",
   "nbconvert_exporter": "python",
   "pygments_lexer": "ipython3",
   "version": "3.11.11"
  }
 },
 "nbformat": 4,
 "nbformat_minor": 2
}
